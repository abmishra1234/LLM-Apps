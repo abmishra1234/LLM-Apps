{
  "nbformat": 4,
  "nbformat_minor": 0,
  "metadata": {
    "colab": {
      "provenance": [],
      "authorship_tag": "ABX9TyNCyMsGJv4CSKF8uQFSNDsf",
      "include_colab_link": true
    },
    "kernelspec": {
      "name": "python3",
      "display_name": "Python 3"
    },
    "language_info": {
      "name": "python"
    }
  },
  "cells": [
    {
      "cell_type": "markdown",
      "metadata": {
        "id": "view-in-github",
        "colab_type": "text"
      },
      "source": [
        "<a href=\"https://colab.research.google.com/github/abmishra1234/LLM-Apps/blob/Development/GenerateTranscriptForYoutubeVideo.ipynb\" target=\"_parent\"><img src=\"https://colab.research.google.com/assets/colab-badge.svg\" alt=\"Open In Colab\"/></a>"
      ]
    },
    {
      "cell_type": "code",
      "execution_count": null,
      "metadata": {
        "id": "2l7oVJP_WwWx"
      },
      "outputs": [],
      "source": [
        "! pip install pytube openai-whisper"
      ]
    },
    {
      "cell_type": "code",
      "source": [
        "from pytube import YouTube\n",
        "import whisper\n",
        "import os"
      ],
      "metadata": {
        "id": "rV1clpgXXE_W"
      },
      "execution_count": 2,
      "outputs": []
    },
    {
      "cell_type": "code",
      "source": [
        "# Function to download YouTube video audio\n",
        "def download_youtube_audio(youtube_url, output_path):\n",
        "    yt = YouTube(youtube_url)\n",
        "    audio_stream = yt.streams.get_audio_only()\n",
        "    audio_stream.download(output_path=output_path, filename=\"audio.mp4\")\n",
        "    return os.path.join(output_path, \"audio.mp4\")  # pytube saves as mp4"
      ],
      "metadata": {
        "id": "Sdv-6PmkXM6R"
      },
      "execution_count": 12,
      "outputs": []
    },
    {
      "cell_type": "code",
      "source": [
        "# Function to transcribe audio using Whisper\n",
        "def transcribe_audio(audio_file_path):\n",
        "    # Load the Whisper model\n",
        "    model = whisper.load_model(\"base\")\n",
        "\n",
        "    # Transcribe the audio\n",
        "    result = model.transcribe(audio_file_path)\n",
        "    return result['text']"
      ],
      "metadata": {
        "id": "lr-XrIwVXVXn"
      },
      "execution_count": 5,
      "outputs": []
    },
    {
      "cell_type": "code",
      "source": [
        "# Main function to perform the tasks\n",
        "def transcribe_youtube_video(youtube_url, docs_path):\n",
        "    # Ensure the docs_path exists\n",
        "    if not os.path.exists(docs_path):\n",
        "        os.makedirs(docs_path)\n",
        "\n",
        "    # Download the audio from YouTube\n",
        "    audio_file_path = download_youtube_audio(youtube_url, docs_path)\n",
        "\n",
        "    # Transcribe the audio to text\n",
        "    transcript = transcribe_audio(audio_file_path)\n",
        "\n",
        "    # Save the transcript to a file\n",
        "    transcript_file_path = os.path.join(docs_path, \"transcript.txt\")\n",
        "    with open(transcript_file_path, 'w') as file:\n",
        "        file.write(transcript)\n",
        "\n",
        "    # Clean up the audio file if you no longer need it\n",
        "    os.remove(audio_file_path)\n",
        "\n",
        "    print(\"Transcription completed successfully!\")\n",
        "    return transcript_file_path"
      ],
      "metadata": {
        "id": "Odf-Aqx2Xowz"
      },
      "execution_count": 6,
      "outputs": []
    },
    {
      "cell_type": "code",
      "source": [
        "# ! pip install ffmpeg"
      ],
      "metadata": {
        "id": "r899LlA3aXZk"
      },
      "execution_count": null,
      "outputs": []
    },
    {
      "cell_type": "code",
      "source": [
        "# Replace 'your_youtube_video_url' with the actual YouTube video URL\n",
        "#youtube_video_url = 'https://www.youtube.com/watch?v=ZYf9V2fSFwU'\n",
        "youtube_video_url = 'https://www.youtube.com/watch?v=wM5837pVh1g'\n",
        "docs_directory = \"docs/youtube/\"\n",
        "transcription_file = transcribe_youtube_video(youtube_video_url, docs_directory)\n",
        "print(f\"The transcript has been saved to: {transcription_file}\")"
      ],
      "metadata": {
        "colab": {
          "base_uri": "https://localhost:8080/"
        },
        "id": "09NdL5yWXsK5",
        "outputId": "051002c9-c293-42d4-ba21-e1b4e4019b39"
      },
      "execution_count": 14,
      "outputs": [
        {
          "output_type": "stream",
          "name": "stderr",
          "text": [
            "/usr/local/lib/python3.10/dist-packages/whisper/transcribe.py:115: UserWarning: FP16 is not supported on CPU; using FP32 instead\n",
            "  warnings.warn(\"FP16 is not supported on CPU; using FP32 instead\")\n"
          ]
        },
        {
          "output_type": "stream",
          "name": "stdout",
          "text": [
            "Transcription completed successfully!\n",
            "The transcript has been saved to: docs/youtube/transcript.txt\n"
          ]
        }
      ]
    }
  ]
}