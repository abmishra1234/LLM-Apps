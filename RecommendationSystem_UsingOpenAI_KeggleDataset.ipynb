{
  "nbformat": 4,
  "nbformat_minor": 0,
  "metadata": {
    "colab": {
      "provenance": []
    },
    "kernelspec": {
      "name": "python3",
      "display_name": "Python 3"
    },
    "language_info": {
      "name": "python"
    }
  },
  "cells": [
    {
      "cell_type": "code",
      "execution_count": null,
      "metadata": {
        "id": "3CdipUypIlkX"
      },
      "outputs": [],
      "source": []
    },
    {
      "cell_type": "markdown",
      "source": [
        "## Agenda\n",
        "Possible Approaches for - Recommendation System ChatBot\n",
        "\n",
        "Using OpenAI- gpt3.5 - using API key [not free]\n",
        "Use runtime - CPU\n",
        "\n",
        "Installation"
      ],
      "metadata": {
        "id": "m6qedqLxcOWw"
      }
    },
    {
      "cell_type": "code",
      "source": [
        "!pip install embedchain"
      ],
      "metadata": {
        "id": "9OwgX1mtccDR"
      },
      "execution_count": null,
      "outputs": []
    },
    {
      "cell_type": "code",
      "source": [
        "!pip install embedchain[huggingface-hub] embedchain[opensource]"
      ],
      "metadata": {
        "id": "xJYVGHbPcm9Z"
      },
      "execution_count": null,
      "outputs": []
    },
    {
      "cell_type": "markdown",
      "source": [
        "## Import the libraries"
      ],
      "metadata": {
        "id": "KZn_9lvAcs2d"
      }
    },
    {
      "cell_type": "code",
      "source": [
        "import os #operating system=> store the key in environment variables\n",
        "from embedchain import App\n",
        "from getpass import getpass #optional"
      ],
      "metadata": {
        "id": "6bReL0GxcuwE"
      },
      "execution_count": 3,
      "outputs": []
    },
    {
      "cell_type": "markdown",
      "source": [
        "## Approach 1- OpenAI - GPT3.5"
      ],
      "metadata": {
        "id": "e2I8MMU5fEVa"
      }
    },
    {
      "cell_type": "code",
      "source": [
        "api_key = getpass(\"Enter your OpenAI API key:\")\n",
        "os.environ[\"OPENAI_API_KEY\"] = api_key"
      ],
      "metadata": {
        "colab": {
          "base_uri": "https://localhost:8080/"
        },
        "id": "CaVQdcQwfF5K",
        "outputId": "c7ea4b9b-bde5-4843-a4a3-916932885c01"
      },
      "execution_count": 4,
      "outputs": [
        {
          "name": "stdout",
          "output_type": "stream",
          "text": [
            "Enter your OpenAI API key:··········\n"
          ]
        }
      ]
    },
    {
      "cell_type": "code",
      "source": [
        "app = App()#- approach OpenAI"
      ],
      "metadata": {
        "id": "Pocarlaufp_-"
      },
      "execution_count": 6,
      "outputs": []
    },
    {
      "cell_type": "markdown",
      "source": [
        "## Add your data\n",
        "Download the dataset in csv file from Kaggle\n",
        "Dataset: Mobile Recommendation System Dataset\n",
        "Upload the dataset to the colab, rename it as data.csv"
      ],
      "metadata": {
        "id": "jAy6q23Xf1ub"
      }
    },
    {
      "cell_type": "code",
      "source": [
        "import pandas as pd\n",
        "\n",
        "data = pd.read_csv(\"data.csv\")\n",
        "data.sample(7)"
      ],
      "metadata": {
        "id": "7JezrPiKf7lg"
      },
      "execution_count": null,
      "outputs": []
    },
    {
      "cell_type": "code",
      "source": [
        "data.drop(\"imgURL\",axis=1,inplace=True)"
      ],
      "metadata": {
        "id": "zb7eGtOoiczp"
      },
      "execution_count": 9,
      "outputs": []
    },
    {
      "cell_type": "code",
      "source": [
        "data.head()"
      ],
      "metadata": {
        "id": "wwnh1a93iixW"
      },
      "execution_count": null,
      "outputs": []
    },
    {
      "cell_type": "code",
      "source": [
        "data.info()"
      ],
      "metadata": {
        "id": "29MEWvzyiqLw"
      },
      "execution_count": null,
      "outputs": []
    },
    {
      "cell_type": "code",
      "source": [
        "data.shape"
      ],
      "metadata": {
        "id": "Ll600oZSix60"
      },
      "execution_count": null,
      "outputs": []
    },
    {
      "cell_type": "code",
      "source": [
        "data = data.iloc[0:200]"
      ],
      "metadata": {
        "id": "ddSDlA9Wi224"
      },
      "execution_count": 21,
      "outputs": []
    },
    {
      "cell_type": "code",
      "source": [
        "data.shape"
      ],
      "metadata": {
        "id": "ioNbe0y-i5ZX"
      },
      "execution_count": null,
      "outputs": []
    },
    {
      "cell_type": "code",
      "source": [
        "data.to_csv(\"new_cleaned_data.csv\",index=False)"
      ],
      "metadata": {
        "id": "A8ZDcLBLi9lb"
      },
      "execution_count": 19,
      "outputs": []
    },
    {
      "cell_type": "code",
      "source": [
        "app.add(\"new_cleaned_data.csv\",data_type=\"csv\")"
      ],
      "metadata": {
        "id": "xUNQHQb5jF1B"
      },
      "execution_count": null,
      "outputs": []
    },
    {
      "cell_type": "code",
      "source": [
        "prompt = input(\"Enter your prompt:\")\n",
        "template = f\"\"\"You are a Mobile recommendation bot, you only answer relevant to the context\n",
        "PROMPT: {prompt}\"\"\"\n",
        "response = app.query(template)"
      ],
      "metadata": {
        "id": "GG23mk0YjOXl"
      },
      "execution_count": null,
      "outputs": []
    },
    {
      "cell_type": "code",
      "source": [
        "print(response)"
      ],
      "metadata": {
        "id": "nHuqzfvYkWk4"
      },
      "execution_count": null,
      "outputs": []
    }
  ]
}