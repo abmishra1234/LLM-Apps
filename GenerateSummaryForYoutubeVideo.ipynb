{
  "nbformat": 4,
  "nbformat_minor": 0,
  "metadata": {
    "colab": {
      "provenance": [],
      "authorship_tag": "ABX9TyNDiZPbcJZUCgmnCeTT06DZ",
      "include_colab_link": true
    },
    "kernelspec": {
      "name": "python3",
      "display_name": "Python 3"
    },
    "language_info": {
      "name": "python"
    }
  },
  "cells": [
    {
      "cell_type": "markdown",
      "metadata": {
        "id": "view-in-github",
        "colab_type": "text"
      },
      "source": [
        "<a href=\"https://colab.research.google.com/github/abmishra1234/LLM-Apps/blob/Development/GenerateSummaryForYoutubeVideo.ipynb\" target=\"_parent\"><img src=\"https://colab.research.google.com/assets/colab-badge.svg\" alt=\"Open In Colab\"/></a>"
      ]
    },
    {
      "cell_type": "code",
      "execution_count": null,
      "metadata": {
        "id": "2l7oVJP_WwWx"
      },
      "outputs": [],
      "source": [
        "#! pip install pytube openai-whisper\n",
        "#! pip install OpenAI"
      ]
    },
    {
      "cell_type": "code",
      "source": [
        "from pytube import YouTube\n",
        "import whisper\n",
        "import os\n",
        "from openai import OpenAI"
      ],
      "metadata": {
        "id": "VYshzd-tyZwt"
      },
      "execution_count": 23,
      "outputs": []
    },
    {
      "cell_type": "code",
      "source": [
        "import os\n",
        "from getpass import getpass\n",
        "OA_token = getpass()\n",
        "os.environ['OPENAI_API_KEY'] = OA_token"
      ],
      "metadata": {
        "colab": {
          "base_uri": "https://localhost:8080/"
        },
        "id": "OMTMooSXsxiF",
        "outputId": "d1942165-09be-4c2f-ddc8-382291c80cfb"
      },
      "execution_count": 12,
      "outputs": [
        {
          "name": "stdout",
          "output_type": "stream",
          "text": [
            "··········\n"
          ]
        }
      ]
    },
    {
      "cell_type": "code",
      "source": [
        "# Function to download YouTube video audio\n",
        "def download_youtube_audio(youtube_url, output_path):\n",
        "    yt = YouTube(youtube_url)\n",
        "    audio_stream = yt.streams.get_audio_only()\n",
        "    audio_stream.download(output_path=output_path, filename=\"audio.mp4\")\n",
        "    return os.path.join(output_path, \"audio.mp4\")  # pytube saves as mp4"
      ],
      "metadata": {
        "id": "Sdv-6PmkXM6R"
      },
      "execution_count": 5,
      "outputs": []
    },
    {
      "cell_type": "code",
      "source": [
        "# Function to transcribe audio using Whisper\n",
        "def transcribe_audio(audio_file_path):\n",
        "    # Load the Whisper model\n",
        "    model = whisper.load_model(\"base\")\n",
        "\n",
        "    # Transcribe the audio\n",
        "    result = model.transcribe(audio_file_path)\n",
        "    return result['text']"
      ],
      "metadata": {
        "id": "lr-XrIwVXVXn"
      },
      "execution_count": 6,
      "outputs": []
    },
    {
      "cell_type": "code",
      "source": [
        "# Function to generate a summary from the transcript\n",
        "def generate_summary(transcript):\n",
        "    # Sending the transcript to OpenAI's API\n",
        "    client = OpenAI()\n",
        "\n",
        "    response = client.chat.completions.create(\n",
        "      model=\"gpt-3.5-turbo\",\n",
        "      messages=[\n",
        "            {\n",
        "                \"role\": \"system\",\n",
        "                \"content\": \"Summarize the following transcript and highlight the actionable items and important points:\"\n",
        "            },\n",
        "            {\n",
        "                \"role\": \"user\",\n",
        "                \"content\": transcript\n",
        "            }\n",
        "      ]\n",
        "    )\n",
        "\n",
        "    # Access the last message in the conversation for the summary\n",
        "    summary = response.choices[0].message.content\n",
        "    print(summary)\n",
        "    return summary.strip()\n",
        "    # print(completion.choices[0].message.content)"
      ],
      "metadata": {
        "id": "RVsKkHHB-G5v"
      },
      "execution_count": 18,
      "outputs": []
    },
    {
      "cell_type": "code",
      "source": [
        "# function to perform the transcribe tasks\n",
        "def transcribe_youtube_video(youtube_url, docs_path):\n",
        "    # Ensure the docs_path exists\n",
        "    if not os.path.exists(docs_path):\n",
        "        os.makedirs(docs_path)\n",
        "\n",
        "    # Download the audio from YouTube\n",
        "    audio_file_path = download_youtube_audio(youtube_url, docs_path)\n",
        "\n",
        "    # Transcribe the audio to text\n",
        "    transcript = transcribe_audio(audio_file_path)\n",
        "\n",
        "    # Save the transcript to a file\n",
        "    transcript_file_path = os.path.join(docs_path, \"transcript.txt\")\n",
        "    with open(transcript_file_path, 'w') as file:\n",
        "        file.write(transcript)\n",
        "\n",
        "    # Clean up the audio file if you no longer need it\n",
        "    os.remove(audio_file_path)\n",
        "\n",
        "    print(\"Transcription completed successfully!\")\n",
        "    return transcript_file_path"
      ],
      "metadata": {
        "id": "Odf-Aqx2Xowz"
      },
      "execution_count": 7,
      "outputs": []
    },
    {
      "cell_type": "code",
      "source": [
        "# Main function into the main workflow\n",
        "def transcribe_and_summarize_youtube_video(youtube_url, docs_path):\n",
        "    # Transcribe the YouTube video\n",
        "    transcript_file_path = transcribe_youtube_video(youtube_url, docs_path)\n",
        "\n",
        "    # Read the transcript from the file\n",
        "    with open(transcript_file_path, 'r') as file:\n",
        "        transcript = file.read()\n",
        "\n",
        "    # Generate a summary of the transcript\n",
        "    summary = generate_summary(transcript)\n",
        "\n",
        "    # Save the summary to a file\n",
        "    summary_file_path = os.path.join(docs_path, \"summary.txt\")\n",
        "    with open(summary_file_path, 'w') as file:\n",
        "        file.write(summary)\n",
        "\n",
        "    print(\"Summary generation completed successfully!\")\n",
        "    return summary_file_path\n",
        ""
      ],
      "metadata": {
        "id": "tNZrw9N5uLnB"
      },
      "execution_count": 19,
      "outputs": []
    },
    {
      "cell_type": "code",
      "source": [
        "# ! pip install ffmpeg"
      ],
      "metadata": {
        "id": "r899LlA3aXZk"
      },
      "execution_count": 9,
      "outputs": []
    },
    {
      "cell_type": "code",
      "source": [
        "#!pip install openai --upgrade"
      ],
      "metadata": {
        "id": "x-kBXKWUzKqA"
      },
      "execution_count": 10,
      "outputs": []
    },
    {
      "cell_type": "code",
      "source": [
        "# Replace 'your_youtube_video_url' with the actual YouTube video URL\n",
        "youtube_video_url = 'https://www.youtube.com/watch?v=5zPrVf-BlKE&t=71s'\n",
        "docs_directory = \"docs/youtube/\"\n",
        "summary_file = transcribe_and_summarize_youtube_video(youtube_video_url, docs_directory)\n",
        "print(f\"The summary has been saved to: {summary_file}\")\n",
        "\n"
      ],
      "metadata": {
        "id": "09NdL5yWXsK5"
      },
      "execution_count": null,
      "outputs": []
    }
  ]
}