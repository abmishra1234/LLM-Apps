{
  "nbformat": 4,
  "nbformat_minor": 0,
  "metadata": {
    "colab": {
      "provenance": [],
      "authorship_tag": "ABX9TyOe/ZbMVeXsWL2VzN+DcL6+",
      "include_colab_link": true
    },
    "kernelspec": {
      "name": "python3",
      "display_name": "Python 3"
    },
    "language_info": {
      "name": "python"
    }
  },
  "cells": [
    {
      "cell_type": "markdown",
      "metadata": {
        "id": "view-in-github",
        "colab_type": "text"
      },
      "source": [
        "<a href=\"https://colab.research.google.com/github/abmishra1234/LLM-Apps/blob/Development/GenerateSummaryForYoutubeVideo.ipynb\" target=\"_parent\"><img src=\"https://colab.research.google.com/assets/colab-badge.svg\" alt=\"Open In Colab\"/></a>"
      ]
    },
    {
      "cell_type": "code",
      "execution_count": 2,
      "metadata": {
        "id": "2l7oVJP_WwWx"
      },
      "outputs": [],
      "source": [
        "# ! pip install pytube openai-whisper\n",
        ""
      ]
    },
    {
      "cell_type": "code",
      "source": [
        "#!pip install openai"
      ],
      "metadata": {
        "id": "VYshzd-tyZwt"
      },
      "execution_count": null,
      "outputs": []
    },
    {
      "cell_type": "code",
      "source": [
        "from pytube import YouTube\n",
        "import whisper\n",
        "import os\n",
        "import openai"
      ],
      "metadata": {
        "id": "rV1clpgXXE_W"
      },
      "execution_count": 5,
      "outputs": []
    },
    {
      "cell_type": "code",
      "source": [
        "from getpass import getpass\n",
        "OA_token = getpass()\n",
        "openai.api_key = OA_token"
      ],
      "metadata": {
        "id": "OMTMooSXsxiF"
      },
      "execution_count": null,
      "outputs": []
    },
    {
      "cell_type": "code",
      "source": [
        "import traceback\n",
        "# Print the traceback\n",
        "print(traceback.format_exc())"
      ],
      "metadata": {
        "colab": {
          "base_uri": "https://localhost:8080/"
        },
        "id": "skWbUI7b9Fa7",
        "outputId": "f2e901cf-0e80-412c-902c-f2f8c33e9d35"
      },
      "execution_count": 34,
      "outputs": [
        {
          "output_type": "stream",
          "name": "stdout",
          "text": [
            "NoneType: None\n",
            "\n"
          ]
        }
      ]
    },
    {
      "cell_type": "code",
      "source": [
        "# Function to download YouTube video audio\n",
        "def download_youtube_audio(youtube_url, output_path):\n",
        "    yt = YouTube(youtube_url)\n",
        "    audio_stream = yt.streams.get_audio_only()\n",
        "    audio_stream.download(output_path=output_path, filename=\"audio.mp4\")\n",
        "    return os.path.join(output_path, \"audio.mp4\")  # pytube saves as mp4"
      ],
      "metadata": {
        "id": "Sdv-6PmkXM6R"
      },
      "execution_count": 7,
      "outputs": []
    },
    {
      "cell_type": "code",
      "source": [
        "# Function to transcribe audio using Whisper\n",
        "def transcribe_audio(audio_file_path):\n",
        "    # Load the Whisper model\n",
        "    model = whisper.load_model(\"base\")\n",
        "\n",
        "    # Transcribe the audio\n",
        "    result = model.transcribe(audio_file_path)\n",
        "    return result['text']"
      ],
      "metadata": {
        "id": "lr-XrIwVXVXn"
      },
      "execution_count": 8,
      "outputs": []
    },
    {
      "cell_type": "code",
      "source": [
        "# Function to generate a summary from the transcript\n",
        "def generate_summary(transcript):\n",
        "    # Sending the transcript to OpenAI's API\n",
        "    response = openai.ChatCompletion.create(\n",
        "        model=\"gpt-3.5-turbo\",  # Replace with the appropriate model\n",
        "        messages=[\n",
        "            {\n",
        "                \"role\": \"system\",\n",
        "                \"content\": \"Summarize the following transcript and highlight the actionable items and important points:\"\n",
        "            },\n",
        "            {\n",
        "                \"role\": \"user\",\n",
        "                \"content\": transcript\n",
        "            }\n",
        "        ]\n",
        "    )\n",
        "    # Access the last message in the conversation for the summary\n",
        "    summary = response['choices'][0]['message']['content']\n",
        "    return summary.strip()"
      ],
      "metadata": {
        "id": "q_Egb7Nbtb-y"
      },
      "execution_count": 36,
      "outputs": []
    },
    {
      "cell_type": "code",
      "source": [
        "# function to perform the transcribe tasks\n",
        "def transcribe_youtube_video(youtube_url, docs_path):\n",
        "    # Ensure the docs_path exists\n",
        "    if not os.path.exists(docs_path):\n",
        "        os.makedirs(docs_path)\n",
        "\n",
        "    # Download the audio from YouTube\n",
        "    audio_file_path = download_youtube_audio(youtube_url, docs_path)\n",
        "\n",
        "    # Transcribe the audio to text\n",
        "    transcript = transcribe_audio(audio_file_path)\n",
        "\n",
        "    # Save the transcript to a file\n",
        "    transcript_file_path = os.path.join(docs_path, \"transcript.txt\")\n",
        "    with open(transcript_file_path, 'w') as file:\n",
        "        file.write(transcript)\n",
        "\n",
        "    # Clean up the audio file if you no longer need it\n",
        "    os.remove(audio_file_path)\n",
        "\n",
        "    print(\"Transcription completed successfully!\")\n",
        "    return transcript_file_path"
      ],
      "metadata": {
        "id": "Odf-Aqx2Xowz"
      },
      "execution_count": 10,
      "outputs": []
    },
    {
      "cell_type": "code",
      "source": [
        "# Main function into the main workflow\n",
        "def transcribe_and_summarize_youtube_video(youtube_url, docs_path):\n",
        "    # Transcribe the YouTube video\n",
        "    transcript_file_path = transcribe_youtube_video(youtube_url, docs_path)\n",
        "\n",
        "    # Read the transcript from the file\n",
        "    with open(transcript_file_path, 'r') as file:\n",
        "        transcript = file.read()\n",
        "\n",
        "    # Generate a summary of the transcript\n",
        "    summary = generate_summary(transcript)\n",
        "\n",
        "    # Save the summary to a file\n",
        "    summary_file_path = os.path.join(docs_path, \"summary.txt\")\n",
        "    with open(summary_file_path, 'w') as file:\n",
        "        file.write(summary)\n",
        "\n",
        "    print(\"Summary generation completed successfully!\")\n",
        "    return summary_file_path"
      ],
      "metadata": {
        "id": "tNZrw9N5uLnB"
      },
      "execution_count": 16,
      "outputs": []
    },
    {
      "cell_type": "code",
      "source": [
        "# ! pip install ffmpeg"
      ],
      "metadata": {
        "id": "r899LlA3aXZk"
      },
      "execution_count": 12,
      "outputs": []
    },
    {
      "cell_type": "code",
      "source": [
        "# Replace 'your_youtube_video_url' with the actual YouTube video URL\n",
        "youtube_video_url = 'https://www.youtube.com/watch?v=JLmjPkR1eF4&t=64s'\n",
        "docs_directory = \"docs/youtube/\"\n",
        "summary_file = transcribe_and_summarize_youtube_video(youtube_video_url, docs_directory)\n",
        "print(f\"The summary has been saved to: {summary_file}\")\n",
        "\n"
      ],
      "metadata": {
        "colab": {
          "base_uri": "https://localhost:8080/"
        },
        "id": "09NdL5yWXsK5",
        "outputId": "3c1522c1-61d9-4ff0-89f0-1227e9b38c41"
      },
      "execution_count": 37,
      "outputs": [
        {
          "output_type": "stream",
          "name": "stderr",
          "text": [
            "/usr/local/lib/python3.10/dist-packages/whisper/transcribe.py:115: UserWarning: FP16 is not supported on CPU; using FP32 instead\n",
            "  warnings.warn(\"FP16 is not supported on CPU; using FP32 instead\")\n"
          ]
        },
        {
          "output_type": "stream",
          "name": "stdout",
          "text": [
            "Transcription completed successfully!\n",
            "Summary generation completed successfully!\n",
            "The summary has been saved to: docs/youtube/summary.txt\n"
          ]
        }
      ]
    },
    {
      "cell_type": "code",
      "source": [
        "#!openai migrate"
      ],
      "metadata": {
        "id": "qpsyP5YBypJc"
      },
      "execution_count": null,
      "outputs": []
    }
  ]
}