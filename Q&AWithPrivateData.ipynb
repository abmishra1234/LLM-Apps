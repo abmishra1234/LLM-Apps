{
  "nbformat": 4,
  "nbformat_minor": 0,
  "metadata": {
    "colab": {
      "provenance": [],
      "authorship_tag": "ABX9TyPg5MbUtgN3LLJWc5OzBaaW",
      "include_colab_link": true
    },
    "kernelspec": {
      "name": "python3",
      "display_name": "Python 3"
    },
    "language_info": {
      "name": "python"
    }
  },
  "cells": [
    {
      "cell_type": "markdown",
      "metadata": {
        "id": "view-in-github",
        "colab_type": "text"
      },
      "source": [
        "<a href=\"https://colab.research.google.com/github/abmishra1234/LLM-Apps/blob/Development/Q%26AWithPrivateData.ipynb\" target=\"_parent\"><img src=\"https://colab.research.google.com/assets/colab-badge.svg\" alt=\"Open In Colab\"/></a>"
      ]
    },
    {
      "cell_type": "markdown",
      "source": [
        "# Project - Question, Answer on Private Documents which is owned by your Company or Individuals"
      ],
      "metadata": {
        "id": "xVjqEPA0hTVl"
      }
    },
    {
      "cell_type": "markdown",
      "source": [
        "Installation Required For Project"
      ],
      "metadata": {
        "id": "XAd28wdihm5o"
      }
    },
    {
      "cell_type": "code",
      "execution_count": null,
      "metadata": {
        "id": "gylJxGrHhIZ7"
      },
      "outputs": [],
      "source": [
        "! pip install openai\n",
        "! pip install langchain\n",
        "! pip install pinecone-client\n",
        "! pip install python-dotenv\n",
        "! pip install tiktoken\n",
        "! pip install wikipedia\n",
        "! pip install pypdf\n",
        "! pip install docx2txt"
      ]
    },
    {
      "cell_type": "markdown",
      "source": [
        "# Imports required for Project"
      ],
      "metadata": {
        "id": "VuIFYjZlij7e"
      }
    },
    {
      "cell_type": "code",
      "source": [
        "import os\n",
        "from dotenv import load_dotenv, find_dotenv\n",
        "load_dotenv(find_dotenv(), override=True)"
      ],
      "metadata": {
        "colab": {
          "base_uri": "https://localhost:8080/"
        },
        "id": "K5qDSf9ZipKd",
        "outputId": "48fe739e-8514-4638-a59c-95f20d75521c"
      },
      "execution_count": 3,
      "outputs": [
        {
          "output_type": "execute_result",
          "data": {
            "text/plain": [
              "True"
            ]
          },
          "metadata": {},
          "execution_count": 3
        }
      ]
    },
    {
      "cell_type": "markdown",
      "source": [
        "# Loading Documents"
      ],
      "metadata": {
        "id": "kdpRbNVejPOR"
      }
    },
    {
      "cell_type": "code",
      "source": [
        "# loading PDF, DOCX and TXT files as LangChain Documents\n",
        "def load_document(file):\n",
        "    import os\n",
        "    name, extension = os.path.splitext(file)\n",
        "\n",
        "    if extension == '.pdf':\n",
        "        from langchain.document_loaders import PyPDFLoader\n",
        "        print(f'Loading {file}')\n",
        "        loader = PyPDFLoader(file)\n",
        "    elif extension == '.docx':\n",
        "        from langchain.document_loaders import Docx2txtLoader\n",
        "        print(f'Loading {file}')\n",
        "        loader = Docx2txtLoader(file)\n",
        "    elif extension == '.txt':\n",
        "        from langchain.document_loaders import TextLoader\n",
        "        loader = TextLoader(file)\n",
        "    else:\n",
        "        print('Document format is not supported!')\n",
        "        return None\n",
        "\n",
        "    data = loader.load()\n",
        "    return data\n",
        "\n",
        "\n",
        "# wikipedia\n",
        "def load_from_wikipedia(query, lang='en', load_max_docs=2):\n",
        "    from langchain.document_loaders import WikipediaLoader\n",
        "    loader = WikipediaLoader(query=query, lang=lang, load_max_docs=load_max_docs)\n",
        "    data = loader.load()\n",
        "    return data\n",
        ""
      ],
      "metadata": {
        "id": "vt5hMMOcjTMv"
      },
      "execution_count": 4,
      "outputs": []
    }
  ]
}